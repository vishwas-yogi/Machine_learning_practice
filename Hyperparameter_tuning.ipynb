{
  "nbformat": 4,
  "nbformat_minor": 0,
  "metadata": {
    "colab": {
      "name": "Hyperparameter_tuning.ipynb",
      "provenance": [],
      "collapsed_sections": [],
      "authorship_tag": "ABX9TyNVZT345MWRf1QUbqcDkB7m",
      "include_colab_link": true
    },
    "kernelspec": {
      "name": "python3",
      "display_name": "Python 3"
    }
  },
  "cells": [
    {
      "cell_type": "markdown",
      "metadata": {
        "id": "view-in-github",
        "colab_type": "text"
      },
      "source": [
        "<a href=\"https://colab.research.google.com/github/vishwas-yogi/Machine_learning_practice/blob/main/Hyperparameter_tuning.ipynb\" target=\"_parent\"><img src=\"https://colab.research.google.com/assets/colab-badge.svg\" alt=\"Open In Colab\"/></a>"
      ]
    },
    {
      "cell_type": "markdown",
      "metadata": {
        "id": "UDre4ma4u881"
      },
      "source": [
        "**Pipeline**"
      ]
    },
    {
      "cell_type": "code",
      "metadata": {
        "colab": {
          "base_uri": "https://localhost:8080/"
        },
        "id": "vgMFkL1Pu4-8",
        "outputId": "195fdbae-97e0-4d8b-f9a1-5a2c9bf0fd35"
      },
      "source": [
        "import pandas as pd\r\n",
        "df= pd.read_csv('https://archive.ics.uci.edu/ml/machine-learning-databases/breast-cancer-wisconsin/wdbc.data', header = None)\r\n",
        "print(df.head())"
      ],
      "execution_count": 1,
      "outputs": [
        {
          "output_type": "stream",
          "text": [
            "         0  1      2      3       4   ...      27      28      29      30       31\n",
            "0    842302  M  17.99  10.38  122.80  ...  0.6656  0.7119  0.2654  0.4601  0.11890\n",
            "1    842517  M  20.57  17.77  132.90  ...  0.1866  0.2416  0.1860  0.2750  0.08902\n",
            "2  84300903  M  19.69  21.25  130.00  ...  0.4245  0.4504  0.2430  0.3613  0.08758\n",
            "3  84348301  M  11.42  20.38   77.58  ...  0.8663  0.6869  0.2575  0.6638  0.17300\n",
            "4  84358402  M  20.29  14.34  135.10  ...  0.2050  0.4000  0.1625  0.2364  0.07678\n",
            "\n",
            "[5 rows x 32 columns]\n"
          ],
          "name": "stdout"
        }
      ]
    },
    {
      "cell_type": "code",
      "metadata": {
        "id": "SD-SsSZ2wV0J",
        "colab": {
          "base_uri": "https://localhost:8080/"
        },
        "outputId": "2e7716bc-2dbf-4e77-c123-cbea4c70d6fe"
      },
      "source": [
        "from sklearn.preprocessing import LabelEncoder\r\n",
        "X = df.iloc[:, 2:].values\r\n",
        "y = df.iloc[:, 1].values\r\n",
        "le = LabelEncoder()\r\n",
        "y = le.fit_transform(y)\r\n",
        "le.classes_"
      ],
      "execution_count": 2,
      "outputs": [
        {
          "output_type": "execute_result",
          "data": {
            "text/plain": [
              "array(['B', 'M'], dtype=object)"
            ]
          },
          "metadata": {
            "tags": []
          },
          "execution_count": 2
        }
      ]
    },
    {
      "cell_type": "code",
      "metadata": {
        "id": "HlkDKSuExNqi",
        "colab": {
          "base_uri": "https://localhost:8080/"
        },
        "outputId": "7e64f042-33bb-4738-c949-ec5988738dd3"
      },
      "source": [
        "from sklearn.model_selection import train_test_split\r\n",
        "X_train, X_test, y_train, y_test = train_test_split(X, y, test_size = 0.20, stratify = y, random_state =1)\r\n",
        "print(X_train.shape)"
      ],
      "execution_count": 3,
      "outputs": [
        {
          "output_type": "stream",
          "text": [
            "(455, 30)\n"
          ],
          "name": "stdout"
        }
      ]
    },
    {
      "cell_type": "code",
      "metadata": {
        "colab": {
          "base_uri": "https://localhost:8080/"
        },
        "id": "AXtcdSTZ-Z3n",
        "outputId": "aa572ad7-9c42-4e49-8cbb-f8d428321782"
      },
      "source": [
        "#standarising the feature columns and compressing data from 30 dimensions to 2 using PCA\r\n",
        "from sklearn.preprocessing import StandardScaler\r\n",
        "from sklearn.decomposition import PCA\r\n",
        "from sklearn.discriminant_analysis import LinearDiscriminantAnalysis as LDA\r\n",
        "from sklearn.linear_model import LogisticRegression\r\n",
        "from sklearn.pipeline import make_pipeline\r\n",
        "pipe_lr = make_pipeline(StandardScaler(), PCA(n_components=2), LogisticRegression(random_state=1 , solver='lbfgs'))\r\n",
        "principal_components = pipe_lr.fit(X_train, y_train)\r\n",
        "# principal_df = pd.DataFrame(data = principal_components, columns = ['principal component 1', 'principal component 2'])\r\n",
        "# print(principal_df.head())\r\n",
        "y_pred = pipe_lr.predict(X_test)\r\n",
        "print('Test Accuracy: %.3f' %pipe_lr.score(X_test, y_test))"
      ],
      "execution_count": 4,
      "outputs": [
        {
          "output_type": "stream",
          "text": [
            "Test Accuracy: 0.956\n"
          ],
          "name": "stdout"
        }
      ]
    },
    {
      "cell_type": "markdown",
      "metadata": {
        "id": "uINTCSGATBBt"
      },
      "source": [
        "K Fold cross-validation"
      ]
    },
    {
      "cell_type": "code",
      "metadata": {
        "id": "cqhsHTVxFQoc",
        "colab": {
          "base_uri": "https://localhost:8080/"
        },
        "outputId": "61ac5216-55e9-4431-d5d8-9df8ca1598bf"
      },
      "source": [
        "import numpy as np\r\n",
        "from sklearn.model_selection import StratifiedKFold\r\n",
        "\r\n",
        "kfold = StratifiedKFold(n_splits = 10).split(X_train, y_train)\r\n",
        "#kfold.split- Generate indices to split data into training and test set.\r\n",
        "#kfold.get_n_splits- gives number of iterations \r\n",
        "scores = []\r\n",
        "print(kfold)\r\n",
        "#a generator is a function that returns an object (iterator) which we can iterate over (one value at a time).\r\n",
        "for k , (train, test) in enumerate(kfold):\r\n",
        "  pipe_lr.fit(X_train[train], y_train[train])\r\n",
        "  score = pipe_lr.score(X_train[test], y_train[test])\r\n",
        "  scores.append(score)\r\n",
        "  print('Fold: %2d, Class dist:%s, Acc: %.3f' %(k+1, np.bincount(y_train[train]), score))"
      ],
      "execution_count": 5,
      "outputs": [
        {
          "output_type": "stream",
          "text": [
            "<generator object _BaseKFold.split at 0x7f7663bf5f50>\n",
            "Fold:  1, Class dist:[256 153], Acc: 0.935\n",
            "Fold:  2, Class dist:[256 153], Acc: 0.935\n",
            "Fold:  3, Class dist:[256 153], Acc: 0.957\n",
            "Fold:  4, Class dist:[256 153], Acc: 0.957\n",
            "Fold:  5, Class dist:[256 153], Acc: 0.935\n",
            "Fold:  6, Class dist:[257 153], Acc: 0.956\n",
            "Fold:  7, Class dist:[257 153], Acc: 0.978\n",
            "Fold:  8, Class dist:[257 153], Acc: 0.933\n",
            "Fold:  9, Class dist:[257 153], Acc: 0.956\n",
            "Fold: 10, Class dist:[257 153], Acc: 0.956\n"
          ],
          "name": "stdout"
        }
      ]
    },
    {
      "cell_type": "markdown",
      "metadata": {
        "id": "vBdp4Ke9N5Oj"
      },
      "source": [
        "Direct stratified k fold cross validation scorer"
      ]
    },
    {
      "cell_type": "code",
      "metadata": {
        "id": "3nezNGt2_k_j",
        "colab": {
          "base_uri": "https://localhost:8080/"
        },
        "outputId": "359a1ac4-1140-4399-e95d-af67f83cd868"
      },
      "source": [
        "from sklearn.model_selection import cross_val_score\r\n",
        "scores = cross_val_score(estimator = pipe_lr, X= X_train, y= y_train, cv= 10, n_jobs= 1)\r\n",
        "print('CV accuracy scores: %s' %scores)"
      ],
      "execution_count": 6,
      "outputs": [
        {
          "output_type": "stream",
          "text": [
            "CV accuracy scores: [0.93478261 0.93478261 0.95652174 0.95652174 0.93478261 0.95555556\n",
            " 0.97777778 0.93333333 0.95555556 0.95555556]\n"
          ],
          "name": "stdout"
        }
      ]
    },
    {
      "cell_type": "markdown",
      "metadata": {
        "id": "yi2WTDrDPWeA"
      },
      "source": [
        "***Learning and Validation Curves***"
      ]
    },
    {
      "cell_type": "markdown",
      "metadata": {
        "id": "ITSmQdL9SO_E"
      },
      "source": [
        "Learning Curves"
      ]
    },
    {
      "cell_type": "code",
      "metadata": {
        "colab": {
          "base_uri": "https://localhost:8080/"
        },
        "id": "kwB_Ng6WOJoE",
        "outputId": "990b31f3-a014-48c5-d4fa-af44e82cb8e2"
      },
      "source": [
        "import matplotlib.pyplot as plt\r\n",
        "from sklearn.model_selection import learning_curve\r\n",
        "\r\n",
        "pipe_lr = make_pipeline(StandardScaler(), LogisticRegression(penalty= 'l2', random_state= 1, solver= 'lbfgs', max_iter= 10000))\r\n",
        "train_sizes, train_scores, test_scores = learning_curve(estimator= pipe_lr, X= X_train, y= y_train, train_sizes= np.linspace(0.1, 1.0, 10), cv= 10, n_jobs= 1)\r\n",
        "print(train_sizes)\r\n",
        "print(train_scores.shape) #array of shape (n_ticks, n_cv_folds) #single element - number of example(train_sizes) * number of iteration of cv\r\n",
        "print(test_scores.shape)  #array of shape (n_ticks, n_cv_folds)\r\n",
        "train_mean = np.mean(train_scores, axis= 1) #row wise- mean of train sizes after all the iterations\r\n",
        "train_std= np.std(train_scores, axis= 1)\r\n",
        "test_mean = np.mean(test_scores, axis= 1)\r\n",
        "test_std = np.std(test_scores, axis= 1)"
      ],
      "execution_count": 7,
      "outputs": [
        {
          "output_type": "stream",
          "text": [
            "[ 40  81 122 163 204 245 286 327 368 409]\n",
            "(10, 10)\n",
            "(10, 10)\n"
          ],
          "name": "stdout"
        }
      ]
    },
    {
      "cell_type": "code",
      "metadata": {
        "colab": {
          "base_uri": "https://localhost:8080/",
          "height": 279
        },
        "id": "NHS_8b2303o_",
        "outputId": "627d0c03-28d3-46d8-f885-4b7e49b3730b"
      },
      "source": [
        "plt.plot(train_sizes, train_mean, color= 'blue', marker= 'o', markersize= 5, label= 'Training accuracy')\r\n",
        "plt.fill_between(train_sizes, train_mean+ train_std, train_mean - train_std, alpha = 0.15, color = 'blue') #fill_between(x, y1, y2=0, where=None, interpolate=False, step=None, *, data=None, **kwargs)\r\n",
        "plt.plot(train_sizes, test_mean, color= 'green', linestyle = \"--\" , marker= 's', markersize= 5, label= 'Validation accuracy')\r\n",
        "plt.fill_between(train_sizes, test_mean+ test_std, test_mean - test_std, alpha = 0.15, color = 'green')\r\n",
        "plt.grid()\r\n",
        "plt.xlabel('Number of training examples')\r\n",
        "plt.xticks(train_sizes)\r\n",
        "plt.ylabel('Accuracy')\r\n",
        "plt.legend(loc= 'lower right')\r\n",
        "plt.ylim([0.8, 1.03])\r\n",
        "plt.show()\r\n",
        "#we can see from the curves that both our training and validation set work quite well if number of examples are greater than 250 in this case"
      ],
      "execution_count": 8,
      "outputs": [
        {
          "output_type": "display_data",
          "data": {
            "image/png": "[encoded data removed]",
            "text/plain": [
              "<Figure size 432x288 with 1 Axes>"
            ]
          },
          "metadata": {
            "tags": [],
            "needs_background": "light"
          }
        }
      ]
    },
    {
      "cell_type": "markdown",
      "metadata": {
        "id": "B1qQK1WFSSyr"
      },
      "source": [
        "Validation Curve"
      ]
    },
    {
      "cell_type": "code",
      "metadata": {
        "id": "mWF3UUKg2ZWA",
        "colab": {
          "base_uri": "https://localhost:8080/",
          "height": 287
        },
        "outputId": "fc10c54b-05f6-4b7b-d955-64da09a8e8d7"
      },
      "source": [
        "from sklearn.model_selection import validation_curve\r\n",
        "param_range = [0.001, 0.01, 0.1, 1.0, 10.0, 100.0]\r\n",
        "train_scores, test_scores = validation_curve(estimator = pipe_lr, X= X_train, y= y_train, param_name = 'logisticregression__C', param_range= param_range, cv= 10)\r\n",
        "train_mean = np.mean(train_scores, axis= 1)\r\n",
        "train_std = np.std(train_scores, axis= 1)\r\n",
        "test_mean = np.mean(test_scores, axis= 1)\r\n",
        "test_std = np.std(test_scores, axis= 1)\r\n",
        "\r\n",
        "plt.plot(param_range, train_mean, color= 'blue', marker= 'o', markersize= 5, label= 'Training accuracy')\r\n",
        "plt.fill_between(param_range, train_mean+ train_std, train_mean - train_std, alpha = 0.15, color = 'blue') #fill_between(x, y1, y2=0, where=None, interpolate=False, step=None, *, data=None, **kwargs)\r\n",
        "plt.plot(param_range, test_mean, color= 'green', linestyle = \"--\" , marker= 's', markersize= 5, label= 'Validation accuracy')\r\n",
        "plt.fill_between(param_range, test_mean+ test_std, test_mean - test_std, alpha = 0.15, color = 'green')\r\n",
        "plt.grid()\r\n",
        "plt.xscale('log')\r\n",
        "plt.xlabel('Parameter C')\r\n",
        "plt.xticks(param_range)\r\n",
        "plt.ylabel('Accuracy')\r\n",
        "plt.legend(loc= 'lower right')\r\n",
        "plt.ylim([0.8, 1.00])\r\n",
        "plt.show()\r\n",
        "#as we can observe from the following graph\r\n",
        "#best c is between 0.01 and 0.1 "
      ],
      "execution_count": 9,
      "outputs": [
        {
          "output_type": "display_data",
          "data": {
            "image/png": "[encoded data removed]",
            "text/plain": [
              "<Figure size 432x288 with 1 Axes>"
            ]
          },
          "metadata": {
            "tags": [],
            "needs_background": "light"
          }
        }
      ]
    },
    {
      "cell_type": "markdown",
      "metadata": {
        "id": "8yW-USRCWCVU"
      },
      "source": [
        "**Grid Search**"
      ]
    },
    {
      "cell_type": "code",
      "metadata": {
        "colab": {
          "base_uri": "https://localhost:8080/"
        },
        "id": "twDZ-DhMWLH5",
        "outputId": "d73aa516-e808-45b3-c5fb-573f6cd85fd8"
      },
      "source": [
        "from sklearn.model_selection import GridSearchCV\r\n",
        "from sklearn.svm import SVC\r\n",
        "\r\n",
        "pipe_svc = make_pipeline(StandardScaler(), SVC(random_state= 1))\r\n",
        "param_range = [0.0001, 0.001, 0.01, 0.1, 1.0, 10.0, 100.0, 1000.0]\r\n",
        "param_grid = [{'svc__C': param_range, 'svc__kernel': ['linear']}, {'svc__C': param_range, 'svc__gamma': param_range, 'svc__kernel': ['rbf']}]\r\n",
        "gs= GridSearchCV(estimator= pipe_svc, param_grid= param_grid, scoring= 'accuracy', cv= 10, refit= True, n_jobs= -1)\r\n",
        "gs = gs.fit(X_train, y_train)\r\n",
        "print(gs.best_score_)\r\n",
        "print(gs.best_params_)\r\n",
        "\r\n",
        "#verifying on independent test dataset\r\n",
        "clf = gs.best_estimator_\r\n",
        "clf.fit(X_train, y_train)\r\n",
        "print('Test Accuracy: %.3f' %clf.score(X_test, y_test))"
      ],
      "execution_count": 10,
      "outputs": [
        {
          "output_type": "stream",
          "text": [
            "0.9846859903381642\n",
            "{'svc__C': 100.0, 'svc__gamma': 0.001, 'svc__kernel': 'rbf'}\n",
            "Test Accuracy: 0.974\n"
          ],
          "name": "stdout"
        }
      ]
    },
    {
      "cell_type": "markdown",
      "metadata": {
        "id": "iJ8yj1kV_H0e"
      },
      "source": [
        "**Confusion** **Matrix**"
      ]
    },
    {
      "cell_type": "code",
      "metadata": {
        "colab": {
          "base_uri": "https://localhost:8080/"
        },
        "id": "C9ILEE0zUmSL",
        "outputId": "214e38b5-1a10-453c-e5a8-80ce4ef5465b"
      },
      "source": [
        "from sklearn.metrics import confusion_matrix\r\n",
        "pipe_svc.fit(X_train, y_train)\r\n",
        "y_pred = pipe_svc.predict(X_test)\r\n",
        "confmat = confusion_matrix(y_true= y_test, y_pred= y_pred)\r\n",
        "print(confmat)"
      ],
      "execution_count": 11,
      "outputs": [
        {
          "output_type": "stream",
          "text": [
            "[[71  1]\n",
            " [ 2 40]]\n"
          ],
          "name": "stdout"
        }
      ]
    },
    {
      "cell_type": "code",
      "metadata": {
        "colab": {
          "base_uri": "https://localhost:8080/",
          "height": 198
        },
        "id": "NNR_PmDr_uAw",
        "outputId": "79bcd215-c9dc-4a94-ea4b-b0455122f6f5"
      },
      "source": [
        "fig, ax = plt.subplots(figsize= (2.5, 2.5))\r\n",
        "ax.matshow(confmat, cmap= plt.cm.Blues, alpha= 0.3)\r\n",
        "for i in range(confmat.shape[0]):\r\n",
        "  for j in range(confmat.shape[1]):\r\n",
        "    ax.text(x= j, y= i, s= confmat[i, j], va= 'center', ha= 'center')\r\n",
        "plt.xlabel('Predicted Label')\r\n",
        "plt.ylabel('True Label')\r\n",
        "plt.show()"
      ],
      "execution_count": 12,
      "outputs": [
        {
          "output_type": "display_data",
          "data": {
            "image/png": "[encoded data removed]",
            "text/plain": [
              "<Figure size 180x180 with 1 Axes>"
            ]
          },
          "metadata": {
            "tags": [],
            "needs_background": "light"
          }
        }
      ]
    },
    {
      "cell_type": "code",
      "metadata": {
        "colab": {
          "base_uri": "https://localhost:8080/"
        },
        "id": "5ZSRZ7VNBVZ9",
        "outputId": "f68b7368-1ce2-4ee9-a26a-97dee1e5a196"
      },
      "source": [
        "from sklearn.metrics import precision_score\r\n",
        "from sklearn.metrics import recall_score, f1_score\r\n",
        "print('Precision: %.3f' %precision_score(y_true= y_test, y_pred= y_pred))\r\n",
        "print('Recall: %.3f' %recall_score(y_true= y_test, y_pred= y_pred))\r\n",
        "print('F1: %.3f' %f1_score(y_true= y_test, y_pred= y_pred))"
      ],
      "execution_count": 13,
      "outputs": [
        {
          "output_type": "stream",
          "text": [
            "Precision: 0.976\n",
            "Recall: 0.952\n",
            "F1: 0.964\n"
          ],
          "name": "stdout"
        }
      ]
    },
    {
      "cell_type": "code",
      "metadata": {
        "colab": {
          "base_uri": "https://localhost:8080/"
        },
        "id": "DK8iNZBXKp9T",
        "outputId": "deb3fbe5-91db-4245-d383-a15c273787b0"
      },
      "source": [
        "from sklearn.metrics import make_scorer, f1_score\r\n",
        "c_gamma_range= [0.01, 0.1, 1.0, 10.0]\r\n",
        "param_grid = [{'svc__C': c_gamma_range, 'svc__kernel': ['linear']}, {'svc__C': c_gamma_range, 'svc__gamma': c_gamma_range, 'svc__kernel': ['rbf']}]\r\n",
        "scorer = make_scorer(f1_score, pos_label = 0)\r\n",
        "gs = GridSearchCV(estimator= pipe_svc, param_grid= param_grid, scoring= scorer, cv= 10)\r\n",
        "gs = gs.fit(X_train, y_train)\r\n",
        "print(gs.best_score_)\r\n",
        "print(gs.best_params_)"
      ],
      "execution_count": 14,
      "outputs": [
        {
          "output_type": "stream",
          "text": [
            "0.9861994953378878\n",
            "{'svc__C': 10.0, 'svc__gamma': 0.01, 'svc__kernel': 'rbf'}\n"
          ],
          "name": "stdout"
        }
      ]
    },
    {
      "cell_type": "markdown",
      "metadata": {
        "id": "8eEjS0g9HwnU"
      },
      "source": [
        "**Receiver Operating Characteristic**"
      ]
    },
    {
      "cell_type": "code",
      "metadata": {
        "id": "fx71izE9FzVJ",
        "colab": {
          "base_uri": "https://localhost:8080/",
          "height": 351
        },
        "outputId": "99278802-0e99-4039-e1f6-34aefe140bbe"
      },
      "source": [
        "from sklearn.metrics import roc_curve, auc #auc- area under the curve\r\n",
        "from numpy import interp\r\n",
        "\r\n",
        "pipe_lr = make_pipeline(StandardScaler(), PCA(n_components= 2), LogisticRegression(penalty= 'l2', random_state= 1, solver= 'lbfgs', C= 100.0))\r\n",
        "X_train2 = X_train[:, [4, 14]]\r\n",
        "cv = list(StratifiedKFold(n_splits= 3).split(X_train, y_train))\r\n",
        "print(len(cv))\r\n",
        "fig = plt.figure(figsize= (7, 5))\r\n",
        "mean_tpr= 0.0\r\n",
        "mean_fpr= np.linspace(0, 1, 100)\r\n",
        "all_tpr= []\r\n",
        "for i, (train, test) in enumerate(cv):\r\n",
        "  probas = pipe_lr.fit(X_train2[train], y_train[train]).predict_proba(X_train2[test])\r\n",
        "  fpr, tpr, thresholds = roc_curve(y_train[test], probas[:, 1], pos_label= 1) #(true_class_labels, target_scores, positive_label)\r\n",
        "  mean_tpr+= interp(mean_fpr, fpr, tpr) #(x co-cordinates at which we calcuate interpolated value, x co-ordinates of data points, y co-ordinates of data points)\r\n",
        "  #interp returns interpolated values, shape same as x\r\n",
        "  mean_tpr[0]= 0.0\r\n",
        "  roc_auc = auc(fpr, tpr)\r\n",
        "  plt.plot(fpr, tpr, label= 'ROC fold %d (area = %0.2f)' %(i+1, roc_auc))\r\n",
        "\r\n",
        "plt.plot([0, 1], [0, 1], linestyle= '--', color= (0.6, 0.6, 0.6), label= 'Random Guessing') #plotting line that connects (0, 0) and (1, 1)\r\n",
        "mean_tpr /= len(cv)\r\n",
        "mean_tpr[-1]= 1.0\r\n",
        "mean_auc = auc(mean_fpr, mean_tpr)\r\n",
        "plt.plot(mean_fpr, mean_tpr, 'k--', label = 'Mean ROC (area= %0.2f)' %mean_auc, lw= 2)\r\n",
        "plt.plot([0, 0, 1], [0, 1, 1], linestyle= ':', color= 'black', label= 'Perfect Performance') #plotting line that connects (0, 0), (0, 1) and (1, 1)\r\n",
        "plt.xlim([-0.05, 1.05])\r\n",
        "plt.ylim([-0.05, 1.05])\r\n",
        "plt.xlabel('False Positive Rate')\r\n",
        "plt.ylabel('True Positive Rate')\r\n",
        "plt.legend(loc = 'lower right')\r\n",
        "plt.show()"
      ],
      "execution_count": 15,
      "outputs": [
        {
          "output_type": "stream",
          "text": [
            "3\n"
          ],
          "name": "stdout"
        },
        {
          "output_type": "display_data",
          "data": {
            "image/png": "[encoded data removed]",
            "text/plain": [
              "<Figure size 504x360 with 1 Axes>"
            ]
          },
          "metadata": {
            "tags": [],
            "needs_background": "light"
          }
        }
      ]
    },
    {
      "cell_type": "markdown",
      "metadata": {
        "id": "W2xB8yTz6G8t"
      },
      "source": [
        "Multiclass Scoring Metrics"
      ]
    },
    {
      "cell_type": "code",
      "metadata": {
        "id": "56PRWSd0egLx",
        "colab": {
          "base_uri": "https://localhost:8080/"
        },
        "outputId": "6884af7b-72b5-4630-8275-1090415c0a33"
      },
      "source": [
        "pre_scorer = make_scorer(score_func= precision_score, pos_label =1, greater_is_better= True, average = 'micro')\r\n",
        "gs = GridSearchCV(estimator= pipe_svc, param_grid= param_grid, scoring= pre_scorer, cv= 10)\r\n",
        "gs = gs.fit(X_train, y_train)\r\n",
        "print(gs.best_score_)\r\n",
        "print(gs.best_params_)"
      ],
      "execution_count": 16,
      "outputs": [
        {
          "output_type": "stream",
          "text": [
            "0.9824154589371981\n",
            "{'svc__C': 10.0, 'svc__gamma': 0.01, 'svc__kernel': 'rbf'}\n"
          ],
          "name": "stdout"
        }
      ]
    },
    {
      "cell_type": "code",
      "metadata": {
        "id": "Tq2KDjU065Zj"
      },
      "source": [
        ""
      ],
      "execution_count": 16,
      "outputs": []
    }
  ]
}